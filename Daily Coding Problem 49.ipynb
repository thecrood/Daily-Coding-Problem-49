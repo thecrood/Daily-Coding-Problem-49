{
 "cells": [
  {
   "cell_type": "markdown",
   "id": "af4fc158",
   "metadata": {},
   "source": [
    "# Daily Coding Problem 49"
   ]
  },
  {
   "cell_type": "raw",
   "id": "bc75583f",
   "metadata": {},
   "source": [
    "This problem was asked by Amazon.\n",
    "\n",
    "Given an array of numbers, find the maximum sum of any contiguous subarray of the array.\n",
    "\n",
    "For example, given the array [34, -50, 42, 14, -5, 86], the maximum sum would be 137, since we would take elements 42, 14, -5, and 86.\n",
    "\n",
    "Given the array [-5, -1, -8, -9], the maximum sum would be 0, since we would not take any elements.\n",
    "\n",
    "Do this in O(N) time."
   ]
  },
  {
   "cell_type": "markdown",
   "id": "c65254ce",
   "metadata": {},
   "source": [
    "# Solution\n",
    "\n",
    "We can work backwards from our desired solution by iterating over the array and looking at the maximum possible subarray that can be made ending at each index. At each index, either we can include that element in our sum or we exclude it.\n",
    "\n",
    "We can then keep track of the maximum subarray we've seen so far in a variable max_so_far, compute the maximum subarray that includes x at each iteration, and choose whichever one is bigger.\n",
    "\n"
   ]
  },
  {
   "cell_type": "code",
   "execution_count": 1,
   "id": "e391b2cf",
   "metadata": {},
   "outputs": [
    {
     "name": "stdout",
     "output_type": "stream",
     "text": [
      "137\n"
     ]
    }
   ],
   "source": [
    "def max_subarray_sum(arr):\n",
    "     max_ending_here = max_so_far = 0\n",
    "     for x in arr:\n",
    "         max_ending_here = max(x, max_ending_here + x)\n",
    "         max_so_far = max(max_so_far, max_ending_here)\n",
    "     return max_so_far\n",
    "\n",
    "print(max_subarray_sum([34, -50, 42, 14, -5, 86]))\n"
   ]
  },
  {
   "cell_type": "code",
   "execution_count": null,
   "id": "73c5fe5b",
   "metadata": {},
   "outputs": [],
   "source": [
    "This algorithm is known as Kadane's algorithm, and it runs in O(N) time and O(1) space."
   ]
  },
  {
   "cell_type": "code",
   "execution_count": null,
   "id": "ed2511cd",
   "metadata": {},
   "outputs": [],
   "source": []
  }
 ],
 "metadata": {
  "kernelspec": {
   "display_name": "Python 3 (ipykernel)",
   "language": "python",
   "name": "python3"
  },
  "language_info": {
   "codemirror_mode": {
    "name": "ipython",
    "version": 3
   },
   "file_extension": ".py",
   "mimetype": "text/x-python",
   "name": "python",
   "nbconvert_exporter": "python",
   "pygments_lexer": "ipython3",
   "version": "3.8.10"
  }
 },
 "nbformat": 4,
 "nbformat_minor": 5
}
